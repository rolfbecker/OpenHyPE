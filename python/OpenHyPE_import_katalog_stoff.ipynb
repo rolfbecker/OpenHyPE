{
 "cells": [
  {
   "cell_type": "markdown",
   "metadata": {},
   "source": [
    "# Import the Relation Katalog Stoff into the Geodatabase\n",
    "\n",
    "The CSV file `katalog_stoff.csv` contains a relation with a list of all possible measurement parameters (e.g. nitrate concentration, pH or temperature) together with an associated unique numerical ID.  \n",
    "\n",
    "The database connection parameters and the database user credentials (login role) are stored in the file [credentials.py](credentials.py).\n"
   ]
  },
  {
   "cell_type": "code",
   "execution_count": null,
   "metadata": {},
   "outputs": [],
   "source": [
    "import pandas as pd\n",
    "import sqlalchemy\n",
    "import credentials as creds \n",
    "#import credential_temp as creds "
   ]
  },
  {
   "cell_type": "code",
   "execution_count": null,
   "metadata": {},
   "outputs": [],
   "source": [
    "creds.URL"
   ]
  },
  {
   "cell_type": "markdown",
   "metadata": {},
   "source": [
    "## Data location"
   ]
  },
  {
   "cell_type": "code",
   "execution_count": null,
   "metadata": {},
   "outputs": [],
   "source": [
    "data_in_dir = r\"../data/OpenGeoData.NRW/OpenHygrisC/OpenHygrisC_gw-messstellen-messwerte_EPSG25832_CSV/\"\n",
    "katalog_fname = r\"katalog_stoff.csv\"\n",
    "katalog_pfname = data_in_dir + katalog_fname"
   ]
  },
  {
   "cell_type": "markdown",
   "metadata": {},
   "source": [
    "## Read the Data\n",
    "Don't forget to add the \"delimiter\", normal csv file's delimiter is \",\" but in our case it's \";\", so we need to assign it."
   ]
  },
  {
   "cell_type": "code",
   "execution_count": null,
   "metadata": {},
   "outputs": [],
   "source": [
    "df = pd.read_csv(katalog_pfname, sep = \";\", index_col=\"stoff_nr\")\n",
    "df.head()"
   ]
  },
  {
   "cell_type": "markdown",
   "metadata": {},
   "source": [
    "## Connect to Database"
   ]
  },
  {
   "cell_type": "code",
   "execution_count": null,
   "metadata": {},
   "outputs": [],
   "source": [
    "# connect to our credential file\n",
    "postgresurl = creds.URL\n"
   ]
  },
  {
   "cell_type": "code",
   "execution_count": null,
   "metadata": {},
   "outputs": [],
   "source": [
    "# write your sql url below\n",
    "engine = sqlalchemy.create_engine(postgresurl)"
   ]
  },
  {
   "cell_type": "markdown",
   "metadata": {},
   "source": [
    "## Import to Database\n",
    "\n",
    "In this section, I have imported the data to the Schema of \"hygrisc\" which has been created before in our PGadmin. but you can set your table in your schema."
   ]
  },
  {
   "cell_type": "code",
   "execution_count": null,
   "metadata": {},
   "outputs": [],
   "source": [
    "%time df.to_sql(con=engine, name=\"katalog_stoff\", schema=\"gw\", if_exists=\"fail\", index=False)\n",
    "#%time df.to_sql(con=engine, name=\"katalog_stoff\", schema=\"gw\", if_exists=\"replace\", index=False)"
   ]
  },
  {
   "cell_type": "markdown",
   "metadata": {},
   "source": [
    "### Create Primary Key"
   ]
  },
  {
   "cell_type": "code",
   "execution_count": null,
   "metadata": {},
   "outputs": [],
   "source": [
    "engine.execute(\"alter table gw.katalog_stoff add constraint pk_katalog_stoff primary key (stoff_nr)\")"
   ]
  },
  {
   "cell_type": "code",
   "execution_count": null,
   "metadata": {},
   "outputs": [],
   "source": []
  }
 ],
 "metadata": {
  "kernelspec": {
   "display_name": "Python 3 (ipykernel)",
   "language": "python",
   "name": "python3"
  },
  "language_info": {
   "codemirror_mode": {
    "name": "ipython",
    "version": 3
   },
   "file_extension": ".py",
   "mimetype": "text/x-python",
   "name": "python",
   "nbconvert_exporter": "python",
   "pygments_lexer": "ipython3",
   "version": "3.10.8"
  }
 },
 "nbformat": 4,
 "nbformat_minor": 4
}
